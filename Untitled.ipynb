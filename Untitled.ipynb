{
 "cells": [
  {
   "cell_type": "code",
   "execution_count": 2,
   "id": "516d3ad8-5875-42ef-b0fa-50d50631a2f0",
   "metadata": {
    "tags": []
   },
   "outputs": [
    {
     "data": {
      "text/html": [
       "<pre style=\"white-space:pre;overflow-x:auto;line-height:normal;font-family:Menlo,'DejaVu Sans Mono',consolas,'Courier New',monospace\">Manim Community <span style=\"color: #008000; text-decoration-color: #008000\">v0.17.3</span>\n",
       "\n",
       "</pre>\n"
      ],
      "text/plain": [
       "Manim Community \u001b[32mv0.\u001b[0m\u001b[32m17.3\u001b[0m\n",
       "\n"
      ]
     },
     "metadata": {},
     "output_type": "display_data"
    }
   ],
   "source": [
    "from manim import *\n",
    "import axelrod as axl"
   ]
  },
  {
   "cell_type": "code",
   "execution_count": 3,
   "id": "1bb84882-17e5-4b90-8d12-ad96d2368515",
   "metadata": {
    "tags": []
   },
   "outputs": [
    {
     "name": "stderr",
     "output_type": "stream",
     "text": [
      "                                                                                                                    \r"
     ]
    },
    {
     "data": {
      "text/html": [
       "<video src=\"media/jupyter/ArcBetweenPointsExample@2023-05-23@16-35-12.mp4\" controls autoplay loop style=\"max-width: 60%;\"  >\n",
       "      Your browser does not support the <code>video</code> element.\n",
       "    </video>"
      ],
      "text/plain": [
       "<IPython.core.display.Video object>"
      ]
     },
     "metadata": {},
     "output_type": "display_data"
    }
   ],
   "source": [
    "%%manim -qm -v WARNING ArcBetweenPointsExample\n",
    "class ArcBetweenPointsExample(Scene):\n",
    "    def construct(self):\n",
    "        circle = Circle(radius=2, stroke_color=GREY)\n",
    "        dot_1 = Dot(color=GREEN).move_to([2, 0, 0]).scale(0.5)\n",
    "        dot_1_text = Tex(\"(2,0)\").scale(0.5).next_to(dot_1, RIGHT).set_color(BLUE)\n",
    "        dot_2 = Dot(color=GREEN).move_to([0, 2, 0]).scale(0.5)\n",
    "        dot_2_text = Tex(\"(0,2)\").scale(0.5).next_to(dot_2, UP).set_color(BLUE)\n",
    "        arc= ArcBetweenPoints(start=2 * RIGHT, end=2 * UP, stroke_color=YELLOW)\n",
    "        self.add(circle, dot_1, dot_2, dot_1_text, dot_2_text)\n",
    "        self.play(Create(arc))"
   ]
  },
  {
   "cell_type": "code",
   "execution_count": 10,
   "id": "1159cce9-9040-4ac9-9afb-efa45cde2c75",
   "metadata": {
    "tags": []
   },
   "outputs": [
    {
     "name": "stderr",
     "output_type": "stream",
     "text": [
      "Playing matches: 100%|██████████████████████████████████████████████████████████████| 36/36 [00:00<00:00, 64.73it/s]\n",
      "Analysing: 100%|███████████████████████████████████████████████████████████████████| 25/25 [00:00<00:00, 230.10it/s]"
     ]
    },
    {
     "name": "stdout",
     "output_type": "stream",
     "text": [
      "['Win-Stay Lose-Shift', 'Tit For Tat', 'Cooperator', 'Defector', 'Alternator', 'Grudger', 'First by Joss: 0.9', 'Detective']\n"
     ]
    },
    {
     "name": "stderr",
     "output_type": "stream",
     "text": [
      "\n"
     ]
    },
    {
     "ename": "KeyError",
     "evalue": "'First by Joss: 0.9'",
     "output_type": "error",
     "traceback": [
      "\u001b[0;31m---------------------------------------------------------------------------\u001b[0m",
      "\u001b[0;31mKeyError\u001b[0m                                  Traceback (most recent call last)",
      "Cell \u001b[0;32mIn[10], line 31\u001b[0m\n\u001b[1;32m     28\u001b[0m         strats[\u001b[38;5;124mf\u001b[39m\u001b[38;5;124m\"\u001b[39m\u001b[38;5;132;01m{\u001b[39;00mwinner\u001b[38;5;132;01m}\u001b[39;00m\u001b[38;5;124m_\u001b[39m\u001b[38;5;132;01m{\u001b[39;00mi\u001b[38;5;132;01m}\u001b[39;00m\u001b[38;5;124m\"\u001b[39m] \u001b[38;5;241m=\u001b[39m strats[winner][\u001b[38;5;241m0\u001b[39m]\n\u001b[1;32m     29\u001b[0m         \u001b[38;5;28mprint\u001b[39m(results\u001b[38;5;241m.\u001b[39mplayers)\n\u001b[0;32m---> 31\u001b[0m \u001b[43mdo_tourn\u001b[49m\u001b[43m(\u001b[49m\u001b[43mstrategies\u001b[49m\u001b[43m,\u001b[49m\u001b[43m \u001b[49m\u001b[38;5;241;43m5\u001b[39;49m\u001b[43m)\u001b[49m\n",
      "Cell \u001b[0;32mIn[10], line 23\u001b[0m, in \u001b[0;36mdo_tourn\u001b[0;34m(strats, iter)\u001b[0m\n\u001b[1;32m     21\u001b[0m l_strats \u001b[38;5;241m=\u001b[39m \u001b[38;5;28mlist\u001b[39m(strats)\n\u001b[1;32m     22\u001b[0m \u001b[38;5;28;01mfor\u001b[39;00m i \u001b[38;5;129;01min\u001b[39;00m \u001b[38;5;28mrange\u001b[39m(\u001b[38;5;28miter\u001b[39m):\n\u001b[0;32m---> 23\u001b[0m     tourn \u001b[38;5;241m=\u001b[39m axl\u001b[38;5;241m.\u001b[39mTournament(\u001b[43m[\u001b[49m\u001b[43mstrats\u001b[49m\u001b[43m[\u001b[49m\u001b[43mstrat\u001b[49m\u001b[43m]\u001b[49m\u001b[43m[\u001b[49m\u001b[38;5;241;43m0\u001b[39;49m\u001b[43m]\u001b[49m\u001b[43m \u001b[49m\u001b[38;5;28;43;01mfor\u001b[39;49;00m\u001b[43m \u001b[49m\u001b[43mstrat\u001b[49m\u001b[43m \u001b[49m\u001b[38;5;129;43;01min\u001b[39;49;00m\u001b[43m \u001b[49m\u001b[43ml_strats\u001b[49m\u001b[43m]\u001b[49m, seed\u001b[38;5;241m=\u001b[39m\u001b[38;5;241m5\u001b[39m)\n\u001b[1;32m     24\u001b[0m     results \u001b[38;5;241m=\u001b[39m tourn\u001b[38;5;241m.\u001b[39mplay()\n\u001b[1;32m     25\u001b[0m     winner \u001b[38;5;241m=\u001b[39m l_strats[results\u001b[38;5;241m.\u001b[39mranking[\u001b[38;5;241m0\u001b[39m]]\n",
      "Cell \u001b[0;32mIn[10], line 23\u001b[0m, in \u001b[0;36m<listcomp>\u001b[0;34m(.0)\u001b[0m\n\u001b[1;32m     21\u001b[0m l_strats \u001b[38;5;241m=\u001b[39m \u001b[38;5;28mlist\u001b[39m(strats)\n\u001b[1;32m     22\u001b[0m \u001b[38;5;28;01mfor\u001b[39;00m i \u001b[38;5;129;01min\u001b[39;00m \u001b[38;5;28mrange\u001b[39m(\u001b[38;5;28miter\u001b[39m):\n\u001b[0;32m---> 23\u001b[0m     tourn \u001b[38;5;241m=\u001b[39m axl\u001b[38;5;241m.\u001b[39mTournament([\u001b[43mstrats\u001b[49m\u001b[43m[\u001b[49m\u001b[43mstrat\u001b[49m\u001b[43m]\u001b[49m[\u001b[38;5;241m0\u001b[39m] \u001b[38;5;28;01mfor\u001b[39;00m strat \u001b[38;5;129;01min\u001b[39;00m l_strats], seed\u001b[38;5;241m=\u001b[39m\u001b[38;5;241m5\u001b[39m)\n\u001b[1;32m     24\u001b[0m     results \u001b[38;5;241m=\u001b[39m tourn\u001b[38;5;241m.\u001b[39mplay()\n\u001b[1;32m     25\u001b[0m     winner \u001b[38;5;241m=\u001b[39m l_strats[results\u001b[38;5;241m.\u001b[39mranking[\u001b[38;5;241m0\u001b[39m]]\n",
      "\u001b[0;31mKeyError\u001b[0m: 'First by Joss: 0.9'"
     ]
    }
   ],
   "source": [
    "strategies = {\n",
    "    \"Win-Stay Lose-Shift\": [axl.WinStayLoseShift(), GREEN, None],\n",
    "    \"Tit For Tat\": [axl.TitForTat(), BLUE, None],\n",
    "    \"Cooperator\": [axl.Cooperator(), YELLOW, None],\n",
    "    \"Defector\": [axl.Defector(), RED, None],\n",
    "    \"Alternator\": [axl.Alternator(), ORANGE, None],\n",
    "    \"Grudger\": [axl.Grudger(), PURPLE, None],\n",
    "    \"First by Joss: 0.9\": [axl.FirstByJoss(), GOLD, None],\n",
    "    \"Detective\": [axl.Detective(), PINK, None],\n",
    "}\n",
    "def calcpts(circle: Circle, strats: dict):\n",
    "    group = VGroup()\n",
    "    l_strats = list(strats)\n",
    "    for i in range(0,len(l_strats)):\n",
    "        c_strat = strats[l_strats[i]]\n",
    "        c_strat[2] = circle.point_at_angle(TAU/len(strats)*i)\n",
    "        group.add(Circle(radius=0.4, arc_center=c_strat[2], color=c_strat[1], fill_opacity=1))\n",
    "    return group\n",
    "\n",
    "def do_tourn(strats: dict, iter: int):\n",
    "    l_strats = list(strats)\n",
    "    for i in range(iter):\n",
    "        tourn = axl.Tournament([strats[strat][0] for strat in l_strats], seed=5)\n",
    "        results = tourn.play()\n",
    "        winner = l_strats[results.ranking[0]]\n",
    "        loser = l_strats[results.ranking[-1]]\n",
    "        strats.pop(loser)\n",
    "        strats[f\"{winner}_{i}\"] = strats[winner][0]\n",
    "        print(results.players)\n",
    "\n",
    "do_tourn(strategies, 5)"
   ]
  },
  {
   "cell_type": "code",
   "execution_count": 19,
   "id": "32b60971-f5b7-4010-86c8-26b005938617",
   "metadata": {
    "tags": []
   },
   "outputs": [
    {
     "name": "stderr",
     "output_type": "stream",
     "text": [
      "                                                                                                                    \r"
     ]
    },
    {
     "data": {
      "text/html": [
       "<video src=\"media/jupyter/MainCircle@2023-05-23@16-49-20.mp4\" controls autoplay loop style=\"max-width: 60%;\"  >\n",
       "      Your browser does not support the <code>video</code> element.\n",
       "    </video>"
      ],
      "text/plain": [
       "<IPython.core.display.Video object>"
      ]
     },
     "metadata": {},
     "output_type": "display_data"
    }
   ],
   "source": [
    "%%manim -qm -v WARNING MainCircle\n",
    "\n",
    "\n",
    "class MainCircle(Scene):\n",
    "    def construct(self):\n",
    "        mainc = Circle(3, stroke_color=RED)\n",
    "        dots1 = calcpts(mainc, strategies)\n",
    "        self.add(mainc)\n",
    "        self.play(SpiralIn(dots1))\n",
    "        self.wait(1)\n",
    "        strategies.pop(\"Pavlov\")\n",
    "        dots2 = calcpts(mainc, strategies)\n",
    "        self.play(Transform(dots1, dots2))\n",
    "        self.wait(1)\n",
    "        \n",
    "        "
   ]
  },
  {
   "cell_type": "code",
   "execution_count": 19,
   "id": "8b8e3343-f493-4f7e-a14d-09ab88a8d501",
   "metadata": {
    "tags": []
   },
   "outputs": [
    {
     "data": {
      "text/plain": [
       "[axelrod.strategies.memoryone.ALLCorALLD,\n",
       " axelrod.strategies.memorytwo.AON2,\n",
       " axelrod.strategies.apavlov.APavlov2006,\n",
       " axelrod.strategies.apavlov.APavlov2011,\n",
       " axelrod.strategies.adaptive.Adaptive,\n",
       " axelrod.strategies.titfortat.AdaptiveTitForTat,\n",
       " axelrod.strategies.adaptor.AdaptorBrief,\n",
       " axelrod.strategies.adaptor.AdaptorLong,\n",
       " axelrod.strategies.grudger.Aggravater,\n",
       " axelrod.strategies.titfortat.Alexei,\n",
       " axelrod.strategies.alternator.Alternator,\n",
       " axelrod.strategies.hunter.AlternatorHunter,\n",
       " axelrod.strategies.cycler.AntiCycler,\n",
       " axelrod.strategies.titfortat.AntiTitForTat,\n",
       " axelrod.strategies.appeaser.Appeaser,\n",
       " axelrod.strategies.qlearner.ArrogantQLearner,\n",
       " axelrod.strategies.averagecopier.AverageCopier,\n",
       " axelrod.strategies.backstabber.BackStabber,\n",
       " axelrod.strategies.better_and_better.BetterAndBetter,\n",
       " axelrod.strategies.titfortat.Bully,\n",
       " axelrod.strategies.titfortat.BurnBothEnds,\n",
       " axelrod.strategies.bush_mosteller.BushMosteller,\n",
       " axelrod.strategies.calculator.Calculator,\n",
       " axelrod.strategies.grudger.Capri,\n",
       " axelrod.strategies.qlearner.CautiousQLearner,\n",
       " axelrod.strategies.prober.CollectiveStrategy,\n",
       " axelrod.strategies.titfortat.ContriteTitForTat,\n",
       " axelrod.strategies.cooperator.Cooperator,\n",
       " axelrod.strategies.hunter.CooperatorHunter,\n",
       " axelrod.strategies.hunter.CycleHunter,\n",
       " axelrod.strategies.cycler.CyclerCCCCCD,\n",
       " axelrod.strategies.cycler.CyclerCCCD,\n",
       " axelrod.strategies.cycler.CyclerCCCDCD,\n",
       " axelrod.strategies.cycler.CyclerCCD,\n",
       " axelrod.strategies.cycler.CyclerDC,\n",
       " axelrod.strategies.cycler.CyclerDDC,\n",
       " axelrod.strategies.dbs.DBS,\n",
       " axelrod.strategies.defector.Defector,\n",
       " axelrod.strategies.hunter.DefectorHunter,\n",
       " axelrod.strategies.memorytwo.DelayedAON1,\n",
       " axelrod.strategies.mutual.Desperate,\n",
       " axelrod.strategies.prober.Detective,\n",
       " axelrod.strategies.backstabber.DoubleCrosser,\n",
       " axelrod.strategies.resurrection.DoubleResurrection,\n",
       " axelrod.strategies.doubler.Doubler,\n",
       " axelrod.strategies.titfortat.DynamicTwoTitsForTat,\n",
       " axelrod.strategies.grudger.EasyGo,\n",
       " axelrod.strategies.titfortat.EugineNier,\n",
       " axelrod.strategies.hunter.EventualCycleHunter,\n",
       " axelrod.strategies.ann.EvolvedANN,\n",
       " axelrod.strategies.ann.EvolvedANN5,\n",
       " axelrod.strategies.ann.EvolvedANNNoise05,\n",
       " axelrod.strategies.finite_state_machines.EvolvedFSM16,\n",
       " axelrod.strategies.finite_state_machines.EvolvedFSM16Noise05,\n",
       " axelrod.strategies.finite_state_machines.EvolvedFSM4,\n",
       " axelrod.strategies.finite_state_machines.EvolvedFSM6,\n",
       " axelrod.strategies.hmm.EvolvedHMM5,\n",
       " axelrod.strategies.lookerup.EvolvedLookerUp1_1_1,\n",
       " axelrod.strategies.lookerup.EvolvedLookerUp2_2_2,\n",
       " axelrod.strategies.memoryone.FirmButFair,\n",
       " axelrod.strategies.axelrod_first.FirstByAnonymous,\n",
       " axelrod.strategies.axelrod_first.FirstByDavis,\n",
       " axelrod.strategies.axelrod_first.FirstByDowning,\n",
       " axelrod.strategies.axelrod_first.FirstByFeld,\n",
       " axelrod.strategies.axelrod_first.FirstByGraaskamp,\n",
       " axelrod.strategies.axelrod_first.FirstByGrofman,\n",
       " axelrod.strategies.axelrod_first.FirstByJoss,\n",
       " axelrod.strategies.axelrod_first.FirstByNydegger,\n",
       " axelrod.strategies.axelrod_first.FirstByShubik,\n",
       " axelrod.strategies.axelrod_first.FirstBySteinAndRapoport,\n",
       " axelrod.strategies.axelrod_first.FirstByTidemanAndChieruzzi,\n",
       " axelrod.strategies.axelrod_first.FirstByTullock,\n",
       " axelrod.strategies.oncebitten.FoolMeOnce,\n",
       " axelrod.strategies.oncebitten.ForgetfulFoolMeOnce,\n",
       " axelrod.strategies.grudger.ForgetfulGrudger,\n",
       " axelrod.strategies.forgiver.Forgiver,\n",
       " axelrod.strategies.forgiver.ForgivingTitForTat,\n",
       " axelrod.strategies.finite_state_machines.Fortress3,\n",
       " axelrod.strategies.finite_state_machines.Fortress4,\n",
       " axelrod.strategies.memoryone.GTFT,\n",
       " axelrod.strategies.grudger.GeneralSoftGrudger,\n",
       " axelrod.strategies.gobymajority.GoByMajority,\n",
       " axelrod.strategies.gobymajority.GoByMajority10,\n",
       " axelrod.strategies.gobymajority.GoByMajority20,\n",
       " axelrod.strategies.gobymajority.GoByMajority40,\n",
       " axelrod.strategies.gobymajority.GoByMajority5,\n",
       " axelrod.strategies.mathematicalconstants.Golden,\n",
       " axelrod.strategies.titfortat.Gradual,\n",
       " axelrod.strategies.gradualkiller.GradualKiller,\n",
       " axelrod.strategies.grudger.Grudger,\n",
       " axelrod.strategies.grudger.GrudgerAlternator,\n",
       " axelrod.strategies.grumpy.Grumpy,\n",
       " axelrod.strategies.handshake.Handshake,\n",
       " axelrod.strategies.gobymajority.HardGoByMajority,\n",
       " axelrod.strategies.gobymajority.HardGoByMajority10,\n",
       " axelrod.strategies.gobymajority.HardGoByMajority20,\n",
       " axelrod.strategies.gobymajority.HardGoByMajority40,\n",
       " axelrod.strategies.gobymajority.HardGoByMajority5,\n",
       " axelrod.strategies.prober.HardProber,\n",
       " axelrod.strategies.titfortat.HardTitFor2Tats,\n",
       " axelrod.strategies.titfortat.HardTitForTat,\n",
       " axelrod.strategies.qlearner.HesitantQLearner,\n",
       " axelrod.strategies.mutual.Hopeless,\n",
       " axelrod.strategies.inverse.Inverse,\n",
       " axelrod.strategies.punisher.InversePunisher,\n",
       " axelrod.strategies.worse_and_worse.KnowledgeableWorseAndWorse,\n",
       " axelrod.strategies.punisher.LevelPunisher,\n",
       " axelrod.strategies.retaliate.LimitedRetaliate,\n",
       " axelrod.strategies.retaliate.LimitedRetaliate2,\n",
       " axelrod.strategies.retaliate.LimitedRetaliate3,\n",
       " axelrod.strategies.memorytwo.MEM2,\n",
       " axelrod.strategies.hunter.MathConstantHunter,\n",
       " axelrod.strategies.titfortat.Michaelos,\n",
       " axelrod.strategies.titfortat.NTitsForMTats,\n",
       " axelrod.strategies.prober.NaiveProber,\n",
       " axelrod.strategies.negation.Negation,\n",
       " axelrod.strategies.averagecopier.NiceAverageCopier,\n",
       " axelrod.strategies.titfortat.OmegaTFT,\n",
       " axelrod.strategies.oncebitten.OnceBitten,\n",
       " axelrod.strategies.grudger.OppositeGrudger,\n",
       " axelrod.strategies.titfortat.OriginalGradual,\n",
       " axelrod.strategies.gambler.PSOGambler1_1_1,\n",
       " axelrod.strategies.gambler.PSOGambler2_2_2,\n",
       " axelrod.strategies.gambler.PSOGambler2_2_2_Noise05,\n",
       " axelrod.strategies.gambler.PSOGamblerMem1,\n",
       " axelrod.strategies.mathematicalconstants.Pi,\n",
       " axelrod.strategies.finite_state_machines.Predator,\n",
       " axelrod.strategies.prober.Prober,\n",
       " axelrod.strategies.prober.Prober2,\n",
       " axelrod.strategies.prober.Prober3,\n",
       " axelrod.strategies.prober.Prober4,\n",
       " axelrod.strategies.finite_state_machines.Pun1,\n",
       " axelrod.strategies.punisher.Punisher,\n",
       " axelrod.strategies.finite_state_machines.Raider,\n",
       " axelrod.strategies.rand.Random,\n",
       " axelrod.strategies.hunter.RandomHunter,\n",
       " axelrod.strategies.titfortat.RandomTitForTat,\n",
       " axelrod.strategies.prober.RemorsefulProber,\n",
       " axelrod.strategies.resurrection.Resurrection,\n",
       " axelrod.strategies.retaliate.Retaliate,\n",
       " axelrod.strategies.retaliate.Retaliate2,\n",
       " axelrod.strategies.retaliate.Retaliate3,\n",
       " axelrod.strategies.revised_downing.RevisedDowning,\n",
       " axelrod.strategies.finite_state_machines.Ripoff,\n",
       " axelrod.strategies.qlearner.RiskyQLearner,\n",
       " axelrod.strategies.axelrod_second.SecondByAppold,\n",
       " axelrod.strategies.axelrod_second.SecondByBlack,\n",
       " axelrod.strategies.axelrod_second.SecondByBorufsen,\n",
       " axelrod.strategies.axelrod_second.SecondByCave,\n",
       " axelrod.strategies.axelrod_second.SecondByChampion,\n",
       " axelrod.strategies.axelrod_second.SecondByColbert,\n",
       " axelrod.strategies.axelrod_second.SecondByEatherley,\n",
       " axelrod.strategies.axelrod_second.SecondByGetzler,\n",
       " axelrod.strategies.axelrod_second.SecondByGladstein,\n",
       " axelrod.strategies.axelrod_second.SecondByGraaskampKatzen,\n",
       " axelrod.strategies.axelrod_second.SecondByGrofman,\n",
       " axelrod.strategies.axelrod_second.SecondByHarrington,\n",
       " axelrod.strategies.axelrod_second.SecondByKluepfel,\n",
       " axelrod.strategies.axelrod_second.SecondByLeyvraz,\n",
       " axelrod.strategies.axelrod_second.SecondByMikkelson,\n",
       " axelrod.strategies.axelrod_second.SecondByRichardHufford,\n",
       " axelrod.strategies.axelrod_second.SecondByRowsam,\n",
       " axelrod.strategies.axelrod_second.SecondByTester,\n",
       " axelrod.strategies.axelrod_second.SecondByTidemanAndChieruzzi,\n",
       " axelrod.strategies.axelrod_second.SecondByTranquilizer,\n",
       " axelrod.strategies.axelrod_second.SecondByWeiner,\n",
       " axelrod.strategies.axelrod_second.SecondByWhite,\n",
       " axelrod.strategies.axelrod_second.SecondByWmAdams,\n",
       " axelrod.strategies.axelrod_second.SecondByYamachi,\n",
       " axelrod.strategies.selfsteem.SelfSteem,\n",
       " axelrod.strategies.shortmem.ShortMem,\n",
       " axelrod.strategies.titfortat.SlowTitForTwoTats2,\n",
       " axelrod.strategies.titfortat.SneakyTitForTat,\n",
       " axelrod.strategies.grudger.SoftGrudger,\n",
       " axelrod.strategies.memoryone.SoftJoss,\n",
       " axelrod.strategies.finite_state_machines.SolutionB1,\n",
       " axelrod.strategies.finite_state_machines.SolutionB5,\n",
       " axelrod.strategies.titfortat.SpitefulTitForTat,\n",
       " axelrod.strategies.grudger.SpitefulCC,\n",
       " axelrod.strategies.stalker.Stalker,\n",
       " axelrod.strategies.memoryone.StochasticCooperator,\n",
       " axelrod.strategies.memoryone.StochasticWSLS,\n",
       " axelrod.strategies.titfortat.SuspiciousTitForTat,\n",
       " axelrod.strategies.finite_state_machines.TF1,\n",
       " axelrod.strategies.finite_state_machines.TF2,\n",
       " axelrod.strategies.finite_state_machines.TF3,\n",
       " axelrod.strategies.sequence_player.ThueMorse,\n",
       " axelrod.strategies.sequence_player.ThueMorseInverse,\n",
       " axelrod.strategies.finite_state_machines.Thumper,\n",
       " axelrod.strategies.titfortat.TitFor2Tats,\n",
       " axelrod.strategies.titfortat.TitForTat,\n",
       " axelrod.strategies.cooperator.TrickyCooperator,\n",
       " axelrod.strategies.defector.TrickyDefector,\n",
       " axelrod.strategies.punisher.TrickyLevelPunisher,\n",
       " axelrod.strategies.titfortat.TwoTitsForTat,\n",
       " axelrod.strategies.finite_state_machines.UsuallyCooperates,\n",
       " axelrod.strategies.finite_state_machines.UsuallyDefects,\n",
       " axelrod.strategies.verybad.VeryBad,\n",
       " axelrod.strategies.mutual.Willing,\n",
       " axelrod.strategies.memoryone.WinShiftLoseStay,\n",
       " axelrod.strategies.memoryone.WinStayLoseShift,\n",
       " axelrod.strategies.lookerup.Winner12,\n",
       " axelrod.strategies.lookerup.Winner21,\n",
       " axelrod.strategies.worse_and_worse.WorseAndWorse,\n",
       " axelrod.strategies.worse_and_worse.WorseAndWorse2,\n",
       " axelrod.strategies.worse_and_worse.WorseAndWorse3,\n",
       " axelrod.strategies.zero_determinant.ZDExtort2,\n",
       " axelrod.strategies.zero_determinant.ZDExtort2v2,\n",
       " axelrod.strategies.zero_determinant.ZDExtort3,\n",
       " axelrod.strategies.zero_determinant.ZDExtort4,\n",
       " axelrod.strategies.zero_determinant.ZDExtortion,\n",
       " axelrod.strategies.zero_determinant.ZDGTFT2,\n",
       " axelrod.strategies.zero_determinant.ZDGen2,\n",
       " axelrod.strategies.gambler.ZDMem2,\n",
       " axelrod.strategies.zero_determinant.ZDMischief,\n",
       " axelrod.strategies.zero_determinant.ZDSet2,\n",
       " axelrod.strategies.mathematicalconstants.e,\n",
       " axelrod.strategies.meta.MemoryDecay,\n",
       " axelrod.strategies.meta.MetaHunter,\n",
       " axelrod.strategies.meta.MetaHunterAggressive,\n",
       " axelrod.strategies.meta.MetaMajority,\n",
       " axelrod.strategies.meta.MetaMajorityMemoryOne,\n",
       " axelrod.strategies.meta.MetaMajorityFiniteMemory,\n",
       " axelrod.strategies.meta.MetaMajorityLongMemory,\n",
       " axelrod.strategies.meta.MetaMinority,\n",
       " axelrod.strategies.meta.MetaMixer,\n",
       " axelrod.strategies.meta.MetaWinner,\n",
       " axelrod.strategies.meta.MetaWinnerDeterministic,\n",
       " axelrod.strategies.meta.MetaWinnerEnsemble,\n",
       " axelrod.strategies.meta.MetaWinnerMemoryOne,\n",
       " axelrod.strategies.meta.MetaWinnerFiniteMemory,\n",
       " axelrod.strategies.meta.MetaWinnerLongMemory,\n",
       " axelrod.strategies.meta.MetaWinnerStochastic,\n",
       " axelrod.strategies.meta.NMWEDeterministic,\n",
       " axelrod.strategies.meta.NMWEFiniteMemory,\n",
       " axelrod.strategies.meta.NMWELongMemory,\n",
       " axelrod.strategies.meta.NMWEMemoryOne,\n",
       " axelrod.strategies.meta.NMWEStochastic,\n",
       " axelrod.strategies.meta.NiceMetaWinner,\n",
       " axelrod.strategies.meta.NiceMetaWinnerEnsemble]"
      ]
     },
     "execution_count": 19,
     "metadata": {},
     "output_type": "execute_result"
    }
   ],
   "source": []
  }
 ],
 "metadata": {
  "kernelspec": {
   "display_name": "Python 3 (ipykernel)",
   "language": "python",
   "name": "python3"
  },
  "language_info": {
   "codemirror_mode": {
    "name": "ipython",
    "version": 3
   },
   "file_extension": ".py",
   "mimetype": "text/x-python",
   "name": "python",
   "nbconvert_exporter": "python",
   "pygments_lexer": "ipython3",
   "version": "3.11.3"
  }
 },
 "nbformat": 4,
 "nbformat_minor": 5
}
