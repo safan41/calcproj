{
 "cells": [
  {
   "cell_type": "code",
   "execution_count": 1,
   "id": "516d3ad8-5875-42ef-b0fa-50d50631a2f0",
   "metadata": {},
   "outputs": [
    {
     "data": {
      "text/html": [
       "<pre style=\"white-space:pre;overflow-x:auto;line-height:normal;font-family:Menlo,'DejaVu Sans Mono',consolas,'Courier New',monospace\">Manim Community <span style=\"color: #008000; text-decoration-color: #008000\">v0.17.3</span>\n",
       "\n",
       "</pre>\n"
      ],
      "text/plain": [
       "Manim Community \u001b[32mv0.\u001b[0m\u001b[32m17.3\u001b[0m\n",
       "\n"
      ]
     },
     "metadata": {},
     "output_type": "display_data"
    }
   ],
   "source": [
    "from manim import *\n",
    "import axelrod as axl"
   ]
  },
  {
   "cell_type": "code",
   "execution_count": 3,
   "id": "1bb84882-17e5-4b90-8d12-ad96d2368515",
   "metadata": {
    "tags": []
   },
   "outputs": [
    {
     "name": "stderr",
     "output_type": "stream",
     "text": [
      "                                                                                                                       \r"
     ]
    },
    {
     "data": {
      "text/html": [
       "<video src=\"media\\jupyter\\ArcBetweenPointsExample@2023-05-17@13-36-31.mp4\" controls autoplay loop style=\"max-width: 60%;\"  >\n",
       "      Your browser does not support the <code>video</code> element.\n",
       "    </video>"
      ],
      "text/plain": [
       "<IPython.core.display.Video object>"
      ]
     },
     "metadata": {},
     "output_type": "display_data"
    }
   ],
   "source": [
    "%%manim -qm -v WARNING ArcBetweenPointsExample\n",
    "class ArcBetweenPointsExample(Scene):\n",
    "    def construct(self):\n",
    "        circle = Circle(radius=2, stroke_color=GREY)\n",
    "        dot_1 = Dot(color=GREEN).move_to([2, 0, 0]).scale(0.5)\n",
    "        dot_1_text = Tex(\"(2,0)\").scale(0.5).next_to(dot_1, RIGHT).set_color(BLUE)\n",
    "        dot_2 = Dot(color=GREEN).move_to([0, 2, 0]).scale(0.5)\n",
    "        dot_2_text = Tex(\"(0,2)\").scale(0.5).next_to(dot_2, UP).set_color(BLUE)\n",
    "        arc= ArcBetweenPoints(start=2 * RIGHT, end=2 * UP, stroke_color=YELLOW)\n",
    "        self.add(circle, dot_1, dot_2, dot_1_text, dot_2_text)\n",
    "        self.play(Create(arc))"
   ]
  },
  {
   "cell_type": "code",
   "execution_count": 5,
   "id": "32b60971-f5b7-4010-86c8-26b005938617",
   "metadata": {},
   "outputs": [
    {
     "data": {
      "text/html": [
       "<video src=\"media\\jupyter\\MainCircle@2023-05-18@13-57-50.mp4\" controls autoplay loop style=\"max-width: 60%;\"  >\n",
       "      Your browser does not support the <code>video</code> element.\n",
       "    </video>"
      ],
      "text/plain": [
       "<IPython.core.display.Video object>"
      ]
     },
     "metadata": {},
     "output_type": "display_data"
    }
   ],
   "source": [
    "%%manim -qm -v WARNING MainCircle\n",
    "strats = [s() for s in axl.basic_strategies]\n",
    "\n",
    "\n",
    "class MainCircle(Scene):\n",
    "    def construct(self):\n",
    "        group = VGroup()\n",
    "        mainc = Circle(3, stroke_color=RED)\n",
    "        strats_pos = [mainc.point_at_angle((2*PI)/len(strats)*i) for i in range(0,len(strats))]\n",
    "        for i in strats_pos:\n",
    "           self.add(Dot(point=i))\n",
    "        self.add(mainc)\n",
    "        self.wait(1)\n",
    "        "
   ]
  }
 ],
 "metadata": {
  "kernelspec": {
   "display_name": "Python 3 (ipykernel)",
   "language": "python",
   "name": "python3"
  },
  "language_info": {
   "codemirror_mode": {
    "name": "ipython",
    "version": 3
   },
   "file_extension": ".py",
   "mimetype": "text/x-python",
   "name": "python",
   "nbconvert_exporter": "python",
   "pygments_lexer": "ipython3",
   "version": "3.11.3"
  }
 },
 "nbformat": 4,
 "nbformat_minor": 5
}
