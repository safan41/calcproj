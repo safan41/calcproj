{
 "cells": [
  {
   "cell_type": "code",
   "execution_count": 2,
   "id": "516d3ad8-5875-42ef-b0fa-50d50631a2f0",
   "metadata": {
    "tags": []
   },
   "outputs": [
    {
     "data": {
      "text/html": [
       "<pre style=\"white-space:pre;overflow-x:auto;line-height:normal;font-family:Menlo,'DejaVu Sans Mono',consolas,'Courier New',monospace\">Manim Community <span style=\"color: #008000; text-decoration-color: #008000\">v0.17.3</span>\n",
       "\n",
       "</pre>\n"
      ],
      "text/plain": [
       "Manim Community \u001b[32mv0.\u001b[0m\u001b[32m17.3\u001b[0m\n",
       "\n"
      ]
     },
     "metadata": {},
     "output_type": "display_data"
    }
   ],
   "source": [
    "from manim import *\n",
    "import axelrod as axl\n",
    "import copy"
   ]
  },
  {
   "cell_type": "code",
   "execution_count": 3,
   "id": "1bb84882-17e5-4b90-8d12-ad96d2368515",
   "metadata": {
    "tags": []
   },
   "outputs": [
    {
     "name": "stderr",
     "output_type": "stream",
     "text": [
      "                                                                                                                    \r"
     ]
    },
    {
     "data": {
      "text/html": [
       "<video src=\"media/jupyter/ArcBetweenPointsExample@2023-05-23@16-35-12.mp4\" controls autoplay loop style=\"max-width: 60%;\"  >\n",
       "      Your browser does not support the <code>video</code> element.\n",
       "    </video>"
      ],
      "text/plain": [
       "<IPython.core.display.Video object>"
      ]
     },
     "metadata": {},
     "output_type": "display_data"
    }
   ],
   "source": [
    "%%manim -qm -v WARNING ArcBetweenPointsExample\n",
    "class ArcBetweenPointsExample(Scene):\n",
    "    def construct(self):\n",
    "        circle = Circle(radius=2, stroke_color=GREY)\n",
    "        dot_1 = Dot(color=GREEN).move_to([2, 0, 0]).scale(0.5)\n",
    "        dot_1_text = Tex(\"(2,0)\").scale(0.5).next_to(dot_1, RIGHT).set_color(BLUE)\n",
    "        dot_2 = Dot(color=GREEN).move_to([0, 2, 0]).scale(0.5)\n",
    "        dot_2_text = Tex(\"(0,2)\").scale(0.5).next_to(dot_2, UP).set_color(BLUE)\n",
    "        arc= ArcBetweenPoints(start=2 * RIGHT, end=2 * UP, stroke_color=YELLOW)\n",
    "        self.add(circle, dot_1, dot_2, dot_1_text, dot_2_text)\n",
    "        self.play(Create(arc))"
   ]
  },
  {
   "cell_type": "code",
   "execution_count": 27,
   "id": "1159cce9-9040-4ac9-9afb-efa45cde2c75",
   "metadata": {
    "tags": []
   },
   "outputs": [],
   "source": [
    "base_strategies = {\n",
    "    \"Win-Stay Lose-Shift\": [axl.WinStayLoseShift(), GREEN, None],\n",
    "    \"Tit For Tat\": [axl.TitForTat(), BLUE, None],\n",
    "    \"Cooperator\": [axl.Cooperator(), YELLOW, None],\n",
    "    \"Defector\": [axl.Defector(), RED, None],\n",
    "    \"Alternator\": [axl.Alternator(), ORANGE, None],\n",
    "    \"Grudger\": [axl.Grudger(), PURPLE, None],\n",
    "    \"First by Joss: 0.9\": [axl.FirstByJoss(), GOLD, None],\n",
    "    \"Detective\": [axl.Detective(), PINK, None],\n",
    "}\n",
    "active_strats = copy.deepcopy(base_strategies)\n",
    "\n",
    "def calcpts(circle: Circle, strats: dict):\n",
    "    group = VGroup()\n",
    "    l_strats = list(strats)\n",
    "    for i in range(0,len(l_strats)):\n",
    "        c_strat = strats[l_strats[i]]\n",
    "        c_strat[2] = circle.point_at_angle(TAU/len(strats)*i)\n",
    "        group.add(Circle(radius=0.4, arc_center=c_strat[2], color=c_strat[1], fill_opacity=1))\n",
    "    return group\n",
    "\n",
    "def do_tourn(scene: Scene, circle: Circle, strats: dict, iter: int):\n",
    "    dots = [calcpts(circle, strats)]\n",
    "    scene.add(dots[0])\n",
    "    for i in range(iter):\n",
    "        l_strats = list(strats)\n",
    "        tourn = axl.Tournament([strats[strat][0] for strat in l_strats], seed=5)\n",
    "        results = tourn.play()\n",
    "        winner = l_strats[results.ranking[0]]\n",
    "        loser = l_strats[results.ranking[-1]]\n",
    "        strats.pop(loser)\n",
    "        dots.append(calcpts(circle, strats))\n",
    "        scene.play(Transform(dots[i], dots[i+1], replace_mobject_with_target_in_scene=True, run_time=0.5))\n",
    "        strats[f\"{winner}_{i}\"] = strats[winner]\n",
    "        dots.append(calcpts(circle, strats))\n",
    "        scene.play(Transform(dots[i], dots[i+1], replace_mobject_with_target_in_scene=True, run_time=0.5))"
   ]
  },
  {
   "cell_type": "code",
   "execution_count": 8,
   "id": "b5b1830f-4daf-4a25-b4fa-9eade32334df",
   "metadata": {
    "tags": []
   },
   "outputs": [
    {
     "data": {
      "text/plain": [
       "{'Win-Stay Lose-Shift': [Win-Stay Lose-Shift, '#83C167', None],\n",
       " 'Tit For Tat': [Tit For Tat, '#58C4DD', None],\n",
       " 'Grudger': [Grudger, '#9A72AC', None],\n",
       " 'Tit For Tat_0': [Tit For Tat, '#58C4DD', None],\n",
       " 'Tit For Tat_1': [Tit For Tat, '#58C4DD', None],\n",
       " 'Tit For Tat_2': [Tit For Tat, '#58C4DD', None],\n",
       " 'Tit For Tat_3': [Tit For Tat, '#58C4DD', None],\n",
       " 'Tit For Tat_4': [Tit For Tat, '#58C4DD', None]}"
      ]
     },
     "execution_count": 8,
     "metadata": {},
     "output_type": "execute_result"
    }
   ],
   "source": [
    "strategies"
   ]
  },
  {
   "cell_type": "code",
   "execution_count": 28,
   "id": "32b60971-f5b7-4010-86c8-26b005938617",
   "metadata": {
    "tags": []
   },
   "outputs": [
    {
     "name": "stderr",
     "output_type": "stream",
     "text": [
      "Playing matches: 100%|██████████████████████████████████████████████████████████████| 36/36 [00:00<00:00, 69.91it/s]\n",
      "Analysing: 100%|███████████████████████████████████████████████████████████████████| 25/25 [00:00<00:00, 254.36it/s]\n",
      "Playing matches: 100%|██████████████████████████████████████████████████████████████| 36/36 [00:00<00:00, 86.56it/s]\n",
      "Analysing: 100%|███████████████████████████████████████████████████████████████████| 25/25 [00:00<00:00, 295.15it/s]\n",
      "Playing matches: 100%|██████████████████████████████████████████████████████████████| 36/36 [00:00<00:00, 91.51it/s]\n",
      "Analysing: 100%|███████████████████████████████████████████████████████████████████| 25/25 [00:00<00:00, 334.20it/s]\n",
      "Playing matches: 100%|██████████████████████████████████████████████████████████████| 36/36 [00:00<00:00, 84.76it/s]\n",
      "Analysing: 100%|███████████████████████████████████████████████████████████████████| 25/25 [00:00<00:00, 335.77it/s]\n",
      "Playing matches: 100%|██████████████████████████████████████████████████████████████| 36/36 [00:00<00:00, 93.81it/s]\n",
      "Analysing: 100%|███████████████████████████████████████████████████████████████████| 25/25 [00:00<00:00, 320.20it/s]\n",
      "                                                                                                                    \r"
     ]
    },
    {
     "data": {
      "text/html": [
       "<video src=\"media/jupyter/MainCircle@2023-05-24@06-41-38.mp4\" controls autoplay loop style=\"max-width: 60%;\"  >\n",
       "      Your browser does not support the <code>video</code> element.\n",
       "    </video>"
      ],
      "text/plain": [
       "<IPython.core.display.Video object>"
      ]
     },
     "metadata": {},
     "output_type": "display_data"
    }
   ],
   "source": [
    "%%manim -qm -v WARNING MainCircle\n",
    "\n",
    "\n",
    "class MainCircle(Scene):\n",
    "    def construct(self):\n",
    "        mainc = Circle(3, stroke_color=RED)\n",
    "        self.add(mainc)\n",
    "        do_tourn(self, mainc, active_strats, 5)\n",
    "        \n",
    "        "
   ]
  },
  {
   "cell_type": "code",
   "execution_count": 8,
   "id": "f848da1e-ccb0-4297-8e8a-8b1178d7ca73",
   "metadata": {
    "tags": []
   },
   "outputs": [
    {
     "data": {
      "image/png": "[encoded data removed]",
      "text/plain": [
       "<IPython.core.display.Image object>"
      ]
     },
     "metadata": {},
     "output_type": "display_data"
    }
   ],
   "source": [
    "%%manim -qm -v WARNING GameTable\n",
    "\n",
    "\n",
    "class GameTable(Scene):\n",
    "    def construct(self):\n",
    "        table = Table(\n",
    "            [[str(i) for i in range(1,6)],\n",
    "            [str(i) for i in range(1,6)]],\n",
    "            row_labels=[Tex(\"R1\"), Tex(\"R2\")],\n",
    "        )\n",
    "        self.add(table)"
   ]
  }
 ],
 "metadata": {
  "kernelspec": {
   "display_name": "Python 3 (ipykernel)",
   "language": "python",
   "name": "python3"
  },
  "language_info": {
   "codemirror_mode": {
    "name": "ipython",
    "version": 3
   },
   "file_extension": ".py",
   "mimetype": "text/x-python",
   "name": "python",
   "nbconvert_exporter": "python",
   "pygments_lexer": "ipython3",
   "version": "3.11.3"
  }
 },
 "nbformat": 4,
 "nbformat_minor": 5
}
