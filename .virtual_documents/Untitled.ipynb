from manim import *
import axelrod as axl
import copy


get_ipython().run_cell_magic("manim", " -qm -v WARNING ArcBetweenPointsExample", """class ArcBetweenPointsExample(Scene):
    def construct(self):
        circle = Circle(radius=2, stroke_color=GREY)
        dot_1 = Dot(color=GREEN).move_to([2, 0, 0]).scale(0.5)
        dot_1_text = Tex("(2,0)").scale(0.5).next_to(dot_1, RIGHT).set_color(BLUE)
        dot_2 = Dot(color=GREEN).move_to([0, 2, 0]).scale(0.5)
        dot_2_text = Tex("(0,2)").scale(0.5).next_to(dot_2, UP).set_color(BLUE)
        arc= ArcBetweenPoints(start=2 * RIGHT, end=2 * UP, stroke_color=YELLOW)
        self.add(circle, dot_1, dot_2, dot_1_text, dot_2_text)
        self.play(Create(arc))""")


base_strategies = {
    "Win-Stay Lose-Shift": [axl.WinStayLoseShift(), GREEN, None],
    "Tit For Tat": [axl.TitForTat(), BLUE, None],
    "Cooperator": [axl.Cooperator(), YELLOW, None],
    "Defector": [axl.Defector(), RED, None],
    "Alternator": [axl.Alternator(), ORANGE, None],
    "Grudger": [axl.Grudger(), PURPLE, None],
    "First by Joss: 0.9": [axl.FirstByJoss(), GOLD, None],
    "Detective": [axl.Detective(), PINK, None],
}
active_strats = copy.deepcopy(base_strategies)

def calcpts(circle: Circle, strats: dict):
    group = VGroup()
    l_strats = list(strats)
    for i in range(0,len(l_strats)):
        c_strat = strats[l_strats[i]]
        c_strat[2] = circle.point_at_angle(TAU/len(strats)*i)
        group.add(Circle(radius=0.4, arc_center=c_strat[2], color=c_strat[1], fill_opacity=1))
    return group

def do_tourn(scene: Scene, circle: Circle, strats: dict, iter: int):
    dots = [calcpts(circle, strats)]
    scene.add(dots[0])
    for i in range(iter):
        l_strats = list(strats)
        tourn = axl.Tournament([strats[strat][0] for strat in l_strats], seed=5)
        results = tourn.play()
        winner = l_strats[results.ranking[0]]
        loser = l_strats[results.ranking[-1]]
        strats.pop(loser)
        dots.append(calcpts(circle, strats))
        scene.play(Transform(dots[i], dots[i+1], replace_mobject_with_target_in_scene=True, run_time=0.5))
        strats[f"{winner}_{i}"] = strats[winner]
        dots.append(calcpts(circle, strats))
        scene.play(Transform(dots[i], dots[i+1], replace_mobject_with_target_in_scene=True, run_time=0.5))


strategies


get_ipython().run_cell_magic("manim", " -qm -v WARNING MainCircle", """

class MainCircle(Scene):
    def construct(self):
        mainc = Circle(3, stroke_color=RED)
        self.add(mainc)
        do_tourn(self, mainc, active_strats, 5)
        
        """)



