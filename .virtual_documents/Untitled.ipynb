from manim import *
import axelrod as axl


get_ipython().run_cell_magic("manim", " -qm -v WARNING ArcBetweenPointsExample", """class ArcBetweenPointsExample(Scene):
    def construct(self):
        circle = Circle(radius=2, stroke_color=GREY)
        dot_1 = Dot(color=GREEN).move_to([2, 0, 0]).scale(0.5)
        dot_1_text = Tex("(2,0)").scale(0.5).next_to(dot_1, RIGHT).set_color(BLUE)
        dot_2 = Dot(color=GREEN).move_to([0, 2, 0]).scale(0.5)
        dot_2_text = Tex("(0,2)").scale(0.5).next_to(dot_2, UP).set_color(BLUE)
        arc= ArcBetweenPoints(start=2 * RIGHT, end=2 * UP, stroke_color=YELLOW)
        self.add(circle, dot_1, dot_2, dot_1_text, dot_2_text)
        self.play(Create(arc))""")


strategies = {
    "Win-Stay Lose-Shift": [axl.WinStayLoseShift(), GREEN, None],
    "Tit for Tat": [axl.TitForTat(), BLUE, None],
    "Cooperator": [axl.Cooperator(), YELLOW, None],
    "Defector": [axl.Defector(), RED, None],
    "Alternator": [axl.Alternator(), ORANGE, None],
    "Grudger": [axl.Grudger(), PURPLE, None],
    "First By Joss": [axl.FirstByJoss(), GOLD, None],
    "Detective": [axl.Detective(), PINK, None],
}
def calcpts(circle: Circle, strats: dict):
    group = VGroup()
    l_strats = list(strats)
    for i in range(0,len(l_strats)):
        c_strat = strats[l_strats[i]]
        c_strat[2] = circle.point_at_angle(TAU/len(strats)*i)
        group.add(Circle(radius=0.4, arc_center=c_strat[2], color=c_strat[1], fill_opacity=1))
    return group

def do_tourn(scene: Scene, strats: dict, iter: int):
    for i in range(iter):
        tourn = axl.Tournament([strats[strat][0] for strat in list[strats]], seed=5)
        results = tourn.play()
        print(results.ranked_names)
        results.rank
        winner = results.ranking[0]
        loser = results.ranking[-1]
        strats.pop(loser)
        strats[winner.+i] = 
        


get_ipython().run_cell_magic("manim", " -qm -v WARNING MainCircle", """

class MainCircle(Scene):
    def construct(self):
        mainc = Circle(3, stroke_color=RED)
        dots1 = calcpts(mainc, strategies)
        self.add(mainc)
        self.play(SpiralIn(dots1))
        self.wait(1)
        strategies.pop("Pavlov")
        dots2 = calcpts(mainc, strategies)
        self.play(Transform(dots1, dots2))
        self.wait(1)
        
        """)



