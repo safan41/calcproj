get_ipython().getoutput("sudo apt update")
get_ipython().getoutput("sudo apt install -y libcairo2-dev ffmpeg \")
    texlive texlive-latex-extra texlive-fonts-extra \
    texlive-latex-recommended texlive-science \
    tipa libpango1.0-dev
get_ipython().run_line_magic("pip", " install IPython --upgrade")
get_ipython().run_line_magic("pip", " install -r requirements.txt")


from manim import *
from manim_slides import Slide
from PIL import Image
from pathlib import Path
import axelrod as axl
import numpy as np
import urllib.request
import copy


base_strategies = {
    "Win-Stay Lose-Shift": [axl.WinStayLoseShift(), GREEN, "🤑", None],
    "Tit For Tat": [axl.TitForTat(), BLUE, "🤫", None],
    "Cooperator": [axl.Cooperator(), YELLOW, "🥰", None],
    "Defector": [axl.Defector(), RED, "😠", None],
    "Alternator": [axl.Alternator(), ORANGE, "🤪", None],
    "Grudger": [axl.Grudger(), PURPLE, "😒", None],
    "First by Joss: 0.9": [axl.FirstByJoss(), GOLD, "🫡", None],
    "Detective": [axl.Detective(), PINK, "🧐", None],
}
active_strats = copy.deepcopy(base_strategies)    

cross = VGroup(
            Line(UP + LEFT, DOWN + RIGHT),
            Line(UP + RIGHT, DOWN + LEFT))
o = Circle(color=GREEN, fill_opacity=1).scale(0.15)
x = cross.set_color(RED).scale(0.15)

gameld = {o: "Cooperate", 
              x: "Defect"}
colorld = {GREEN: "Pavlov",
              BLUE: "Tit for Tat"}


class EmojiSVGMobject(SVGMobject):
    def __init__(self, emoji, **kwargs):
        emoji_code = "-".join(f"{ord(c):x}" for c in emoji)
        url = f"https://raw.githubusercontent.com/twitter/twemoji/master/assets/svg/{emoji_code}.svg"
        path_svg = Path.cwd() / f"{emoji_code}.svg"
        urllib.request.urlretrieve(url, path_svg)
        SVGMobject.__init__(self, str(path_svg), **kwargs)
        path_svg.unlink()  # delete downloaded svg again locally


class GameManager:
    def __init__(self, scene: Scene, data: list, p1:str, p2: str):
        self.scene = scene
        self.data = data
        self.p1 = p1
        self.p2 = p2
        self.table = MobjectTable(
            data,
            row_labels=[Tex(self.p1, color=base_strategies[self.p1][1]), Tex(p2, color=base_strategies[self.p2][1])],
            include_outer_lines=True,
        ).scale(0.9)
        for entry in self.table.get_entries_without_labels():
            entry.set_opacity(0)
    def create(self):
        self.scene.play(self.table.create())
    def rl(self, pos: tuple):
        self.table.get_entries_without_labels(pos).set_opacity(1)
        self.scene.wait(0.2)
    def hl(self, pos: tuple, color: str):
        self.scene.play(Create(self.table.get_cell(pos, color=color)))


class LegendManager:
    def __init__(self, scene: Scene, keys: dict):
        self.scene = scene
        table = []
        for legend, value in keys.items():
            if type(legend) == str:
                table.append([Square(color=legend, fill_opacity=1).scale(0.4), Text(value)])
            else:
                table.append([legend.copy(), Text(value)]) # type: ignore
        self.legend = MobjectTable(
            table,
            include_outer_lines=True
        ).to_corner(UP+RIGHT).scale(0.5)
        self.legend.remove(*self.legend.get_vertical_lines()[len(keys):])
        self.legend.remove(*self.legend.get_horizontal_lines()[len(keys):])
    def create(self):
        self.scene.play(FadeIn(self.legend))


def calcpts(circle: Circle, strats: dict):
    group = VGroup()
    l_strats = list(strats)
    for i in range(0,len(l_strats)):
        c_strat = strats[l_strats[i]]
        c_strat[3] = circle.point_at_angle(TAU/len(strats)*i)
        group.add(Circle(radius=0.4, arc_center=c_strat[3], color=c_strat[1], fill_opacity=1))
    return group

def calcarcs(strats: dict):
    group = VGroup()
    l_strats = list(strats)
    n = len(l_strats)

    # for i in range(n-3):
    #     line = Line(base_strat[3], cur_strat[3])
    #     group.add(Line(strats[l_strats[0]][3], strats[l_strats[i + 2]][3]))

    cur = n-3
    pos = 0
    first = True
    while (cur > 0):
        base_strat = strats[l_strats[pos]]
        for i in range(cur):
            if first:
                cur_strat = strats[l_strats[i + 2]]
            else:
                cur_strat = strats[l_strats[n-1-i]]

            if (pos == 0) or (i > pos):
                line = Line(cur_strat[3], base_strat[3])
            else:
                line = Line(base_strat[3], cur_strat[3])
            group.add(line)    
        pos += 1
        if first:
            first = False
            continue
        cur -= 1
    return group

def do_tourn(scene: Scene, circle: Circle, strats: dict, iter: int):
    dots = [calcpts(circle, strats)]
    arcs = [calcarcs(strats)]
    scene.play(SpiralIn(dots[0]))
    for i in range(iter):
        l_strats = list(strats)
        tourn = axl.Tournament([strats[strat][0] for strat in l_strats], seed=5)
        results = tourn.play()
        winner = l_strats[results.ranking[0]]
        loser = l_strats[results.ranking[-1]]
        strats.pop(loser)
        dots.append(calcpts(circle, strats))
        arcs.append(calcarcs(strats))
        
        scene.play(Transform(VGroup(dots[i], arcs[i]), VGroup(dots[i+1], arcs[i+1]), replace_mobject_with_target_in_scene=True, run_time=0.5))        
        strats.update({f"{winner}_{i}": [strats[winner][0], strats[winner][1], strats[winner][2], None]})
        
        dots.append(calcpts(circle, strats))
        arcs.append(calcarcs(strats))
        
        scene.play(Transform(VGroup(dots[i], arcs[i]), VGroup(dots[i+1], arcs[i+1]), replace_mobject_with_target_in_scene=True, run_time=0.5))        

#def do_round(scene: Scene, s1: axl.Player, s2: axl.Player):




get_ipython().run_cell_magic("manim", " -qm -v WARNING TestCircle", """

class TestCircle(Scene):
    def construct(self):
        mainc = Circle(3, stroke_color=WHITE)
        dots = calcpts(mainc, base_strategies)
        print(base_strategies)
        arcs = calcarcs(base_strategies)
        self.add(mainc, arcs, dots)
        #self.play(Create(mainc))
        #self.play(Create(dots))
        #self.play(Create(arcs))
        
        """)


get_ipython().run_cell_magic("manim", " -qm -v WARNING TestTourn", """

class TestTourn(Scene):
    def construct(self):
        mainc = Circle(3, stroke_color=RED)
        self.add(mainc)
        do_tourn(self, mainc, active_strats, 10)
        #self.play(Create(mainc))
        #self.play(Create(dots))
        #self.play(Create(arcs))
        
        """)


get_ipython().run_cell_magic("manim", " -qm -v WARNING Presentation", """p1 = "Defector"
p2 = "Cooperator"

game_data = [[i.copy() for i in [x,x,x,x,x]],
            [i.copy() for i in [o,o,o,o,o]]]
    
class Presentation(Slide):
    def construct(self):
        table = GameManager(self, game_data, p1, p2)
        legend = LegendManager(self, gameld)
        table.create()
        legend.create()
        self.next_slide()

        table.rl((1,1))
        table.rl((2,1))
        self.next_slide()
        table.rl((1,2))
        table.rl((2,2))
        table.rl((1,3))
        table.rl((2,3))
        table.rl((1,4))
        table.rl((2,4))
        table.rl((1,5))
        table.rl((2,5))
        

        
""")
